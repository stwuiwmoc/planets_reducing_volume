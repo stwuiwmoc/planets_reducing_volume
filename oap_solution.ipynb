{
 "cells": [
  {
   "cell_type": "markdown",
   "metadata": {},
   "source": [
    "<script type=\"text/javascript\" async src=\"https://cdnjs.cloudflare.com/ajax/libs/mathjax/2.7.7/MathJax.js?config=TeX-MML-AM_CHTML\">\n",
    "</script>\n",
    "<script type=\"text/x-mathjax-config\">\n",
    " MathJax.Hub.Config({\n",
    " tex2jax: {\n",
    " inlineMath: [['$', '$'] ],\n",
    " displayMath: [ ['$$','$$'], [\"\\\\[\",\"\\\\]\"] ]\n",
    " }\n",
    " });\n",
    "</script>\n",
    "\n",
    "### off axis parabolaの解析解を導出する\n",
    "\n",
    "文字の定義\n",
    "\n",
    "**O-xyz座標系 : 親放物面を定義する時の座標系**\n",
    "\n",
    "- O : 回転放物面の頂点\n",
    "- x : 軸外し方向とする(OAPanalysisの冒頭のYに相当)\n",
    "- y : xと直交\n",
    "- z : 親放物面の回転軸\n",
    "\n",
    "上記はOAPanalysis冒頭のXYZ座標系とはXYとはの扱いが逆（+x方向 と+Y方向が対応、+y方向と-X方向が対応）で、OAPanalysisの小文字xyzとは無関係（文字が被ってしまっただけで深い意図は何もない）\n",
    "\n",
    "**OAP自体のパラメータ**\n",
    "- p : 焦点距離\n",
    "- q : 軸外し距離\n",
    "- $\\delta$ : 軸外し角の半分\n",
    "\n",
    "O-xyz座標系において親放物面の式は\n",
    "$$ z = \\frac{1}{4p} (x^2 + y^2) $$\n",
    "である。\n",
    "\n",
    "この時、軸外し距離 $q$と軸外し角の半分$\\delta$ の対応を確認しておく。\n",
    "\n",
    "親放物面上の点Q \n",
    "$$Q_{xyz} = (q, 0, q^2/4p)$$\n",
    "における、X軸に対する接平面の傾きが$\\delta$である。\n",
    "\n",
    "上記の点Qの場合、親放物面の式をxで微分して求めた接線の傾きと、接線の傾きの関係を考えれば\n",
    "$$ \\tan{\\delta} = \\frac{1}{4p} 2q = \\frac{q}{2p}$$\n",
    "これを変形して\n",
    "$$ q = 2p \\tan{\\delta}$$\n",
    "である\n",
    "\n",
    "**Q-ABH座標系 : OAPanalysisに準拠**\n",
    "- Q : 放物面上の点Q（O-xyz系での$Q_{xyz}$）\n",
    "- A : off axis方向\n",
    "- B : Aと直交（yと平行なベクトルで、正方向も一致）\n",
    "- H : 高さ\n",
    "\n",
    "このときO-xyz座標系からQ-ABH座標系への座標変換は、\n",
    "\n",
    "- x方向に $Q_{xyz}$ のx成分 $q$ の平行移動\n",
    "- z方向に $Q_{xyz}$ のz成分 $q^2/4p$ の平行移動\n",
    "- y軸を回転軸として角度 $\\delta$ の回転\n",
    "\n",
    "を行えばよい。\n",
    "これを満たすようなアフィン変換を表す行列は"
   ]
  },
  {
   "cell_type": "code",
   "execution_count": 45,
   "metadata": {},
   "outputs": [
    {
     "data": {
      "text/latex": [
       "$\\displaystyle T = \\left[\\begin{matrix}\\cos{\\left(\\delta \\right)} & 0 & - \\sin{\\left(\\delta \\right)} & q\\\\0 & 1 & 0 & 0\\\\\\sin{\\left(\\delta \\right)} & 0 & \\cos{\\left(\\delta \\right)} & \\frac{q^{2}}{4 p}\\\\0 & 0 & 0 & 1\\end{matrix}\\right]$"
      ],
      "text/plain": [
       "<IPython.core.display.Math object>"
      ]
     },
     "metadata": {},
     "output_type": "display_data"
    }
   ],
   "source": [
    "import sympy as sy\n",
    "from IPython.display import Math\n",
    "\n",
    "def Latex(text):\n",
    "    return display(Math(text))\n",
    "\n",
    "A, B, H = sy.symbols(\"A, B, H\")\n",
    "p, q, delta = sy.symbols(\"p, q, \\delta\")\n",
    "x, y, z = sy.symbols(\"x, y, z\")\n",
    "\n",
    "T = sy.Matrix([[sy.cos(-delta), 0, sy.sin(-delta), q], \n",
    "               [0, 1, 0, 0],\n",
    "               [-sy.sin(-delta), 0, sy.cos(-delta), q**2/(4*p)],\n",
    "               [0, 0, 0, 1]])\n",
    "Latex(\"T = \" + sy.latex(T))"
   ]
  },
  {
   "cell_type": "markdown",
   "metadata": {},
   "source": [
    "ここに\n",
    "$$ q = 2p \\tan{\\delta}$$\n",
    "より\n",
    "$$\\frac{q^2}{4p} = \\frac{(2p\\tan{\\delta})^2}{4p}$$\n",
    "を上記の行列Tに代入するとアフィン変換を表す行列 $T_{p,\\delta}$ は $p$ と $\\delta$ の関数として"
   ]
  },
  {
   "cell_type": "code",
   "execution_count": 46,
   "metadata": {},
   "outputs": [
    {
     "data": {
      "text/latex": [
       "$\\displaystyle T_{p, \\delta} = \\left[\\begin{matrix}\\cos{\\left(\\delta \\right)} & 0 & - \\sin{\\left(\\delta \\right)} & 2 p \\tan{\\left(\\delta \\right)}\\\\0 & 1 & 0 & 0\\\\\\sin{\\left(\\delta \\right)} & 0 & \\cos{\\left(\\delta \\right)} & p \\tan^{2}{\\left(\\delta \\right)}\\\\0 & 0 & 0 & 1\\end{matrix}\\right]$"
      ],
      "text/plain": [
       "<IPython.core.display.Math object>"
      ]
     },
     "metadata": {},
     "output_type": "display_data"
    }
   ],
   "source": [
    "T_pdelta = T.subs(q, 2*p*sy.tan(delta))\n",
    "Latex(\"T_{p, \\delta} = \" + sy.latex(T_pdelta))"
   ]
  },
  {
   "cell_type": "markdown",
   "metadata": {},
   "source": [
    "と表せる。\n",
    "\n",
    "また、放物面上のある点PをXYZ座標系とBAH座標系でそれぞれ縦ベクトルとして表すとき"
   ]
  },
  {
   "cell_type": "code",
   "execution_count": 47,
   "metadata": {},
   "outputs": [
    {
     "data": {
      "text/latex": [
       "$\\displaystyle P_{xyz} = \\left[\\begin{matrix}x\\\\y\\\\z\\\\1\\end{matrix}\\right], P_{ABH} = \\left[\\begin{matrix}A\\\\B\\\\H\\\\1\\end{matrix}\\right]$"
      ],
      "text/plain": [
       "<IPython.core.display.Math object>"
      ]
     },
     "metadata": {},
     "output_type": "display_data"
    }
   ],
   "source": [
    "P_xyz = sy.Matrix([x, y, z, 1])\n",
    "P_ABH = sy.Matrix([A, B, H, 1])\n",
    "Latex(\n",
    "    \"P_{xyz} = \" \n",
    "    + sy.latex(P_xyz)\n",
    "    + \", P_{ABH} = \" \n",
    "    + sy.latex(P_ABH))"
   ]
  },
  {
   "cell_type": "markdown",
   "metadata": {},
   "source": [
    "よって、点Pに関してO-xyz系からQ-ABH系への行列Tを用いたアフィン変換を表す式は\n",
    "$$P_{xyz} = T_{p,\\delta} P_{ABH}$$\n",
    "であり、行列の要素まで具体的に表記すると\n"
   ]
  },
  {
   "cell_type": "code",
   "execution_count": 39,
   "metadata": {},
   "outputs": [
    {
     "data": {
      "text/latex": [
       "$\\displaystyle \\left[\\begin{matrix}x\\\\y\\\\z\\\\1\\end{matrix}\\right] = \\left[\\begin{matrix}\\cos{\\left(\\delta \\right)} & 0 & - \\sin{\\left(\\delta \\right)} & 2 p \\tan{\\left(\\delta \\right)}\\\\0 & 1 & 0 & 0\\\\\\sin{\\left(\\delta \\right)} & 0 & \\cos{\\left(\\delta \\right)} & p \\tan^{2}{\\left(\\delta \\right)}\\\\0 & 0 & 0 & 1\\end{matrix}\\right]\\left[\\begin{matrix}A\\\\B\\\\H\\\\1\\end{matrix}\\right]$"
      ],
      "text/plain": [
       "<IPython.core.display.Math object>"
      ]
     },
     "metadata": {},
     "output_type": "display_data"
    }
   ],
   "source": [
    "Latex(\n",
    "    sy.latex(P_xyz) \n",
    "    + \" = \"\n",
    "    + sy.latex(T_pdelta)\n",
    "    + sy.latex(P_ABH)\n",
    "    )"
   ]
  },
  {
   "cell_type": "markdown",
   "metadata": {},
   "source": [
    "更にこの行列の積を計算すると"
   ]
  },
  {
   "cell_type": "code",
   "execution_count": 43,
   "metadata": {},
   "outputs": [
    {
     "data": {
      "text/latex": [
       "$\\displaystyle \\left[\\begin{matrix}x\\\\y\\\\z\\\\1\\end{matrix}\\right]=\\left[\\begin{matrix}A \\cos{\\left(\\delta \\right)} - H \\sin{\\left(\\delta \\right)} + 2 p \\tan{\\left(\\delta \\right)}\\\\B\\\\A \\sin{\\left(\\delta \\right)} + H \\cos{\\left(\\delta \\right)} + p \\tan^{2}{\\left(\\delta \\right)}\\\\1\\end{matrix}\\right]$"
      ],
      "text/plain": [
       "<IPython.core.display.Math object>"
      ]
     },
     "metadata": {},
     "output_type": "display_data"
    }
   ],
   "source": [
    "T_P_ABH = T_pdelta * P_ABH\n",
    "Latex(\n",
    "    sy.latex(P_xyz)\n",
    "    + \"=\"\n",
    "    + sy.latex(T_P_ABH))"
   ]
  },
  {
   "cell_type": "markdown",
   "metadata": {},
   "source": [
    "ここで、そもそも放物面の式は"
   ]
  },
  {
   "cell_type": "code",
   "execution_count": 48,
   "metadata": {},
   "outputs": [
    {
     "data": {
      "text/latex": [
       "$\\displaystyle 0 = - z + \\frac{x^{2} + y^{2}}{4 p}$"
      ],
      "text/plain": [
       "<IPython.core.display.Math object>"
      ]
     },
     "metadata": {},
     "output_type": "display_data"
    }
   ],
   "source": [
    "f_xyz = 1/(4*p) * (x**2 + y**2) - z\n",
    "Latex(\n",
    "    \"0 = \"\n",
    "    + sy.latex(f_xyz)\n",
    ")"
   ]
  },
  {
   "cell_type": "markdown",
   "metadata": {},
   "source": [
    "であるから、このx,y,zに行列の積の各成分を代入すると"
   ]
  },
  {
   "cell_type": "code",
   "execution_count": 53,
   "metadata": {},
   "outputs": [
    {
     "data": {
      "text/latex": [
       "$\\displaystyle 0 = - A \\sin{\\left(\\delta \\right)} - H \\cos{\\left(\\delta \\right)} - p \\tan^{2}{\\left(\\delta \\right)} + \\frac{B^{2} + \\left(A \\cos{\\left(\\delta \\right)} - H \\sin{\\left(\\delta \\right)} + 2 p \\tan{\\left(\\delta \\right)}\\right)^{2}}{4 p}$"
      ],
      "text/plain": [
       "<IPython.core.display.Math object>"
      ]
     },
     "metadata": {},
     "output_type": "display_data"
    }
   ],
   "source": [
    "f_ABH = f_xyz.subs([(x, T_P_ABH[0]), \n",
    "                    (y, T_P_ABH[1]),\n",
    "                    (z, T_P_ABH[2])])\n",
    "Latex(\n",
    "    \"0 = \"\n",
    "    + sy.latex(f_ABH)\n",
    ")"
   ]
  },
  {
   "cell_type": "markdown",
   "metadata": {},
   "source": [
    "よって、これを$H$について解けば"
   ]
  },
  {
   "cell_type": "code",
   "execution_count": 61,
   "metadata": {},
   "outputs": [],
   "source": [
    "H_plus, H_minus = sy.solve(f_ABH, H)"
   ]
  },
  {
   "cell_type": "code",
   "execution_count": 62,
   "metadata": {},
   "outputs": [
    {
     "data": {
      "text/latex": [
       "$\\displaystyle H_{+} = \\frac{- \\frac{A \\sin^{3}{\\left(\\delta \\right)}}{\\cos{\\left(\\delta \\right)}} + A \\tan{\\left(\\delta \\right)} + \\frac{2 p}{\\cos{\\left(\\delta \\right)}} - \\sqrt{- \\frac{4 A p \\sin^{3}{\\left(\\delta \\right)}}{\\cos^{2}{\\left(\\delta \\right)}} + \\frac{4 A p \\sin{\\left(\\delta \\right)}}{\\cos^{2}{\\left(\\delta \\right)}} + \\frac{B^{2} \\sin^{4}{\\left(\\delta \\right)}}{\\cos^{2}{\\left(\\delta \\right)}} + B^{2} - \\frac{B^{2}}{\\cos^{2}{\\left(\\delta \\right)}} + \\frac{4 p^{2}}{\\cos^{2}{\\left(\\delta \\right)}}}}{\\sin^{2}{\\left(\\delta \\right)}}$"
      ],
      "text/plain": [
       "<IPython.core.display.Math object>"
      ]
     },
     "metadata": {},
     "output_type": "display_data"
    },
    {
     "data": {
      "text/latex": [
       "$\\displaystyle H_{-} = \\frac{- \\frac{A \\sin^{3}{\\left(\\delta \\right)}}{\\cos{\\left(\\delta \\right)}} + A \\tan{\\left(\\delta \\right)} + \\frac{2 p}{\\cos{\\left(\\delta \\right)}} + \\sqrt{- \\frac{4 A p \\sin^{3}{\\left(\\delta \\right)}}{\\cos^{2}{\\left(\\delta \\right)}} + \\frac{4 A p \\sin{\\left(\\delta \\right)}}{\\cos^{2}{\\left(\\delta \\right)}} + \\frac{B^{2} \\sin^{4}{\\left(\\delta \\right)}}{\\cos^{2}{\\left(\\delta \\right)}} + B^{2} - \\frac{B^{2}}{\\cos^{2}{\\left(\\delta \\right)}} + \\frac{4 p^{2}}{\\cos^{2}{\\left(\\delta \\right)}}}}{\\sin^{2}{\\left(\\delta \\right)}}$"
      ],
      "text/plain": [
       "<IPython.core.display.Math object>"
      ]
     },
     "metadata": {},
     "output_type": "display_data"
    }
   ],
   "source": [
    "#H_plus = sy.simplify(H_plus)\n",
    "#H_minus = sy.simplify(H_minus)\n",
    "\n",
    "Latex(\n",
    "    \"H_{+} = \"\n",
    "    + sy.latex(H_plus)\n",
    ")\n",
    "Latex(\n",
    "    \"H_{-} = \"\n",
    "    + sy.latex(H_minus)\n",
    ")\n"
   ]
  }
 ],
 "metadata": {
  "interpreter": {
   "hash": "53fae5f3ca942a1fd6e51422031b23282722bacaed3e32d5c2113658276143bc"
  },
  "kernelspec": {
   "display_name": "Python 3.9.2 64-bit ('proper_env': conda)",
   "language": "python",
   "name": "python3"
  },
  "language_info": {
   "codemirror_mode": {
    "name": "ipython",
    "version": 3
   },
   "file_extension": ".py",
   "mimetype": "text/x-python",
   "name": "python",
   "nbconvert_exporter": "python",
   "pygments_lexer": "ipython3",
   "version": "3.9.2"
  },
  "orig_nbformat": 4
 },
 "nbformat": 4,
 "nbformat_minor": 2
}
